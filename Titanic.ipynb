{
 "cells": [
  {
   "cell_type": "markdown",
   "metadata": {},
   "source": [
    "The goal of this notebook is to try a few things for the Kaggle's Titanic: Machine Learning from Disaster dataset. You can find the dataset and some information [here](https://www.kaggle.com/c/titanic). I use Python for this project. First, let's start by reading the dataset to see what we have:"
   ]
  },
  {
   "cell_type": "code",
   "execution_count": 4,
   "metadata": {},
   "outputs": [],
   "source": [
    "import pandas as pd\n",
    "directory = '../../Datasets/Titanic/'\n",
    "titanic_train = pd.read_csv(directory + 'train.csv')\n",
    "titanic_test = pd.read_csv(directory + 'test.csv')"
   ]
  },
  {
   "cell_type": "code",
   "execution_count": 3,
   "metadata": {},
   "outputs": [
    {
     "name": "stdout",
     "output_type": "stream",
     "text": [
      "<class 'pandas.core.frame.DataFrame'>\n",
      "RangeIndex: 891 entries, 0 to 890\n",
      "Data columns (total 12 columns):\n",
      "PassengerId    891 non-null int64\n",
      "Survived       891 non-null int64\n",
      "Pclass         891 non-null int64\n",
      "Name           891 non-null object\n",
      "Sex            891 non-null object\n",
      "Age            714 non-null float64\n",
      "SibSp          891 non-null int64\n",
      "Parch          891 non-null int64\n",
      "Ticket         891 non-null object\n",
      "Fare           891 non-null float64\n",
      "Cabin          204 non-null object\n",
      "Embarked       889 non-null object\n",
      "dtypes: float64(2), int64(5), object(5)\n",
      "memory usage: 66.2+ KB\n",
      "<class 'pandas.core.frame.DataFrame'>\n",
      "RangeIndex: 418 entries, 0 to 417\n",
      "Data columns (total 11 columns):\n",
      "PassengerId    418 non-null int64\n",
      "Pclass         418 non-null int64\n",
      "Name           418 non-null object\n",
      "Sex            418 non-null object\n",
      "Age            332 non-null float64\n",
      "SibSp          418 non-null int64\n",
      "Parch          418 non-null int64\n",
      "Ticket         418 non-null object\n",
      "Fare           417 non-null float64\n",
      "Cabin          91 non-null object\n",
      "Embarked       418 non-null object\n",
      "dtypes: float64(2), int64(4), object(5)\n",
      "memory usage: 27.8+ KB\n"
     ]
    }
   ],
   "source": [
    "titanic_train.info()\n",
    "titanic_test.info()"
   ]
  },
  {
   "cell_type": "markdown",
   "metadata": {},
   "source": [
    "There are some missing data in Age, Cabin, and Fare. Let's combine the training and test data and fill the missing data. For now, I'll use simple methods. We can improve them later. "
   ]
  },
  {
   "cell_type": "code",
   "execution_count": 5,
   "metadata": {},
   "outputs": [],
   "source": [
    "titanic_train_test = [titanic_train, titanic_test]"
   ]
  },
  {
   "cell_type": "code",
   "execution_count": 7,
   "metadata": {},
   "outputs": [],
   "source": [
    "for dataset in titanic_train_test:\n",
    "    dataset['Age'].fillna(dataset.Age.median(), inplace=True)\n",
    "    dataset['Cabin'].fillna('U', inplace=True)\n",
    "    dataset['Embarked'].fillna('S', inplace=True)\n",
    "    dataset['Fare'].fillna(dataset.Fare.mean(), inplace=True)"
   ]
  },
  {
   "cell_type": "code",
   "execution_count": 8,
   "metadata": {},
   "outputs": [
    {
     "name": "stdout",
     "output_type": "stream",
     "text": [
      "<class 'pandas.core.frame.DataFrame'>\n",
      "RangeIndex: 891 entries, 0 to 890\n",
      "Data columns (total 15 columns):\n",
      "PassengerId       891 non-null int64\n",
      "Survived          891 non-null int64\n",
      "Pclass            891 non-null int64\n",
      "Name              891 non-null object\n",
      "Sex               891 non-null object\n",
      "Age               891 non-null float64\n",
      "SibSp             891 non-null int64\n",
      "Parch             891 non-null int64\n",
      "Ticket            891 non-null object\n",
      "Fare              891 non-null float64\n",
      "Cabin             891 non-null object\n",
      "Embarked          891 non-null object\n",
      "FamilySize        891 non-null int64\n",
      "CategoricalAge    891 non-null category\n",
      "Title             891 non-null object\n",
      "dtypes: category(1), float64(2), int64(6), object(6)\n",
      "memory usage: 77.6+ KB\n",
      "<class 'pandas.core.frame.DataFrame'>\n",
      "RangeIndex: 418 entries, 0 to 417\n",
      "Data columns (total 11 columns):\n",
      "PassengerId    418 non-null int64\n",
      "Pclass         418 non-null int64\n",
      "Name           418 non-null object\n",
      "Sex            418 non-null object\n",
      "Age            418 non-null float64\n",
      "SibSp          418 non-null int64\n",
      "Parch          418 non-null int64\n",
      "Ticket         418 non-null object\n",
      "Fare           418 non-null float64\n",
      "Cabin          418 non-null object\n",
      "Embarked       418 non-null object\n",
      "dtypes: float64(2), int64(4), object(5)\n",
      "memory usage: 27.8+ KB\n"
     ]
    }
   ],
   "source": [
    "titanic_train.info()\n",
    "titanic_test.info()"
   ]
  },
  {
   "cell_type": "markdown",
   "metadata": {},
   "source": [
    "I'm going to define a few more columns for now. I define FamilySize (based on SibSp:# of siblings / spouses aboard the Titanic and Parch (of parents / children aboard the Titanic). "
   ]
  },
  {
   "cell_type": "code",
   "execution_count": 9,
   "metadata": {},
   "outputs": [],
   "source": [
    "for dataset in titanic_train_test:\n",
    "    dataset['FamilySize'] = dataset.SibSp + dataset.Parch"
   ]
  },
  {
   "cell_type": "code",
   "execution_count": 16,
   "metadata": {},
   "outputs": [
    {
     "data": {
      "text/plain": [
       "<matplotlib.axes._subplots.AxesSubplot at 0x8752690>"
      ]
     },
     "execution_count": 16,
     "metadata": {},
     "output_type": "execute_result"
    },
    {
     "data": {
      "image/png": "[encoded data removed]",
      "text/plain": [
       "<matplotlib.figure.Figure at 0x68840b0>"
      ]
     },
     "metadata": {},
     "output_type": "display_data"
    }
   ],
   "source": [
    "import matplotlib.pyplot as plt\n",
    "%matplotlib inline  \n",
    "titanic_train.groupby('Age').count().PassengerId.plot()"
   ]
  },
  {
   "cell_type": "markdown",
   "metadata": {},
   "source": [
    "It's better to group the ages so we have a better understanding of the groups. "
   ]
  },
  {
   "cell_type": "code",
   "execution_count": 23,
   "metadata": {},
   "outputs": [],
   "source": [
    "for dataset in titanic_train_test:\n",
    "    dataset['AgeRange'], AgeBins = pd.cut(dataset['Age'], 10, retbins=True)"
   ]
  },
  {
   "cell_type": "code",
   "execution_count": 24,
   "metadata": {},
   "outputs": [
    {
     "data": {
      "text/plain": [
       "AgeRange\n",
       "(0.34, 8.378]        54\n",
       "(8.378, 16.336]      46\n",
       "(16.336, 24.294]    177\n",
       "(24.294, 32.252]    346\n",
       "(32.252, 40.21]     118\n",
       "(40.21, 48.168]      70\n",
       "(48.168, 56.126]     45\n",
       "(56.126, 64.084]     24\n",
       "(64.084, 72.042]      9\n",
       "(72.042, 80.0]        2\n",
       "Name: PassengerId, dtype: int64"
      ]
     },
     "execution_count": 24,
     "metadata": {},
     "output_type": "execute_result"
    }
   ],
   "source": [
    "titanic_train.groupby('AgeRange').count().PassengerId"
   ]
  },
  {
   "cell_type": "code",
   "execution_count": 25,
   "metadata": {},
   "outputs": [
    {
     "data": {
      "text/plain": [
       "0                              Braund, Mr. Owen Harris\n",
       "1    Cumings, Mrs. John Bradley (Florence Briggs Th...\n",
       "2                               Heikkinen, Miss. Laina\n",
       "3         Futrelle, Mrs. Jacques Heath (Lily May Peel)\n",
       "4                             Allen, Mr. William Henry\n",
       "5                                     Moran, Mr. James\n",
       "6                              McCarthy, Mr. Timothy J\n",
       "7                       Palsson, Master. Gosta Leonard\n",
       "8    Johnson, Mrs. Oscar W (Elisabeth Vilhelmina Berg)\n",
       "9                  Nasser, Mrs. Nicholas (Adele Achem)\n",
       "Name: Name, dtype: object"
      ]
     },
     "execution_count": 25,
     "metadata": {},
     "output_type": "execute_result"
    }
   ],
   "source": [
    "titanic_train.Name.head(10)"
   ]
  },
  {
   "cell_type": "markdown",
   "metadata": {},
   "source": [
    "We can extract titles and then use it instead of Sex. Actually, there is a clear correlation between Sex and Title (Male cannot use Mrs for title). So, it doesn't make sense to keep both. As the same time, I think Title shows more information than a binary Sex variable."
   ]
  },
  {
   "cell_type": "code",
   "execution_count": 27,
   "metadata": {},
   "outputs": [],
   "source": [
    "for dataset in titanic_train_test:\n",
    "    dataset['Title'] = dataset['Name'].map(lambda name: name.split(',')[1].split('.')[0].strip())"
   ]
  },
  {
   "cell_type": "code",
   "execution_count": 28,
   "metadata": {},
   "outputs": [
    {
     "data": {
      "text/plain": [
       "0        Mr\n",
       "1       Mrs\n",
       "2      Miss\n",
       "3       Mrs\n",
       "4        Mr\n",
       "5        Mr\n",
       "6        Mr\n",
       "7    Master\n",
       "8       Mrs\n",
       "9       Mrs\n",
       "Name: Title, dtype: object"
      ]
     },
     "execution_count": 28,
     "metadata": {},
     "output_type": "execute_result"
    }
   ],
   "source": [
    "titanic_train.Title.head(10)"
   ]
  },
  {
   "cell_type": "code",
   "execution_count": 39,
   "metadata": {},
   "outputs": [
    {
     "data": {
      "text/plain": [
       "<matplotlib.axes._subplots.AxesSubplot at 0xb477910>"
      ]
     },
     "execution_count": 39,
     "metadata": {},
     "output_type": "execute_result"
    },
    {
     "data": {
      "image/png": "[encoded data removed]",
      "text/plain": [
       "<matplotlib.figure.Figure at 0xb286f10>"
      ]
     },
     "metadata": {},
     "output_type": "display_data"
    }
   ],
   "source": [
    "plt.subplot(2,1,1)\n",
    "titanic_train.groupby('Title').count().PassengerId.plot()\n",
    "plt.subplot(2,1,2)\n",
    "titanic_test.groupby('Title').count().PassengerId.plot()"
   ]
  },
  {
   "cell_type": "markdown",
   "metadata": {},
   "source": [
    "It make sense to just keep a few titles and get rid of the rare cases. "
   ]
  },
  {
   "cell_type": "code",
   "execution_count": 40,
   "metadata": {},
   "outputs": [],
   "source": [
    "Title_Dictionary = {\n",
    "    \"Capt\": \"Rare\",\n",
    "    \"Col\": \"Rare\",\n",
    "    \"Major\": \"Rare\",\n",
    "    \"Jonkheer\": \"Rare\",\n",
    "    \"Don\": \"Rare\",\n",
    "    \"Sir\": \"Rare\",\n",
    "    \"Dr\": \"Rare\",\n",
    "    \"Rev\": \"Rare\",\n",
    "    \"the Countess\": \"Rare\",\n",
    "    \"Dona\": \"Rare\",\n",
    "    \"Mme\": \"Mrs\",\n",
    "    \"Mlle\": \"Miss\",\n",
    "    \"Ms\": \"Mrs\",\n",
    "    \"Mr\": \"Mr\",\n",
    "    \"Mrs\": \"Mrs\",\n",
    "    \"Miss\": \"Miss\",\n",
    "    \"Master\": \"Master\",\n",
    "    \"Lady\": \"Rare\"\n",
    "}\n",
    "for dataset in titanic_train_test:\n",
    "    dataset['Title'] = dataset['Title'].map(Title_Dictionary)"
   ]
  },
  {
   "cell_type": "code",
   "execution_count": 42,
   "metadata": {},
   "outputs": [
    {
     "data": {
      "text/plain": [
       "<matplotlib.axes._subplots.AxesSubplot at 0xb1095f0>"
      ]
     },
     "execution_count": 42,
     "metadata": {},
     "output_type": "execute_result"
    },
    {
     "data": {
      "image/png": "[encoded data removed]",
      "text/plain": [
       "<matplotlib.figure.Figure at 0xb10e6f0>"
      ]
     },
     "metadata": {},
     "output_type": "display_data"
    }
   ],
   "source": [
    "titanic_train.groupby('Title').count().PassengerId.plot()\n",
    "titanic_test.groupby('Title').count().PassengerId.plot()"
   ]
  },
  {
   "cell_type": "markdown",
   "metadata": {},
   "source": [
    "Let's see what we can get from last name. Basically, if we can use the same last name to distinguish people from the same family, it can be useful. The problem is that some last names are common and we should not use them (see max value is 9 in the training data)."
   ]
  },
  {
   "cell_type": "code",
   "execution_count": 43,
   "metadata": {},
   "outputs": [],
   "source": [
    "for dataset in titanic_train_test:\n",
    "    dataset['LastName'] = dataset['Name'].map(lambda name: name.split(',')[0].strip())"
   ]
  },
  {
   "cell_type": "code",
   "execution_count": 54,
   "metadata": {},
   "outputs": [
    {
     "data": {
      "text/plain": [
       "count    667.000000\n",
       "mean       1.335832\n",
       "std        0.854922\n",
       "min        1.000000\n",
       "25%        1.000000\n",
       "50%        1.000000\n",
       "75%        1.000000\n",
       "max        9.000000\n",
       "Name: PassengerId, dtype: float64"
      ]
     },
     "execution_count": 54,
     "metadata": {},
     "output_type": "execute_result"
    }
   ],
   "source": [
    "titanic_train.groupby('LastName').count().PassengerId.describe()\n"
   ]
  },
  {
   "cell_type": "code",
   "execution_count": 55,
   "metadata": {},
   "outputs": [
    {
     "data": {
      "text/plain": [
       "count    352.000000\n",
       "mean       1.187500\n",
       "std        0.505314\n",
       "min        1.000000\n",
       "25%        1.000000\n",
       "50%        1.000000\n",
       "75%        1.000000\n",
       "max        4.000000\n",
       "Name: PassengerId, dtype: float64"
      ]
     },
     "execution_count": 55,
     "metadata": {},
     "output_type": "execute_result"
    }
   ],
   "source": [
    "titanic_test.groupby('LastName').count().PassengerId.describe()"
   ]
  },
  {
   "cell_type": "markdown",
   "metadata": {},
   "source": [
    "Let's investigate what we have from tickets, cabins, and fares. Remeber, 'U' in Cabin means unknown. The 687 value in the training data is for that one. For ticket, things are better. The max number of items with the same ticket is 7. Maybe we can use it to find groups. Obviously, same fare does not mean anything is most cases. But, it we have very few persons with the same fare, maybe they got their tickets together."
   ]
  },
  {
   "cell_type": "code",
   "execution_count": 58,
   "metadata": {},
   "outputs": [
    {
     "data": {
      "text/plain": [
       "count    148.000000\n",
       "mean       6.020270\n",
       "std       56.360775\n",
       "min        1.000000\n",
       "25%        1.000000\n",
       "50%        1.000000\n",
       "75%        2.000000\n",
       "max      687.000000\n",
       "Name: PassengerId, dtype: float64"
      ]
     },
     "execution_count": 58,
     "metadata": {},
     "output_type": "execute_result"
    }
   ],
   "source": [
    "titanic_train.groupby('Cabin').count().PassengerId.describe()"
   ]
  },
  {
   "cell_type": "code",
   "execution_count": 60,
   "metadata": {},
   "outputs": [
    {
     "data": {
      "text/plain": [
       "count    681.000000\n",
       "mean       1.308370\n",
       "std        0.792652\n",
       "min        1.000000\n",
       "25%        1.000000\n",
       "50%        1.000000\n",
       "75%        1.000000\n",
       "max        7.000000\n",
       "Name: PassengerId, dtype: float64"
      ]
     },
     "execution_count": 60,
     "metadata": {},
     "output_type": "execute_result"
    }
   ],
   "source": [
    "titanic_train.groupby('Ticket').count().PassengerId.describe()"
   ]
  },
  {
   "cell_type": "code",
   "execution_count": 61,
   "metadata": {},
   "outputs": [
    {
     "data": {
      "text/plain": [
       "count    248.000000\n",
       "mean       3.592742\n",
       "std        5.848930\n",
       "min        1.000000\n",
       "25%        1.000000\n",
       "50%        2.000000\n",
       "75%        4.000000\n",
       "max       43.000000\n",
       "Name: PassengerId, dtype: float64"
      ]
     },
     "execution_count": 61,
     "metadata": {},
     "output_type": "execute_result"
    }
   ],
   "source": [
    "titanic_train.groupby('Fare').count().PassengerId.describe()"
   ]
  },
  {
   "cell_type": "markdown",
   "metadata": {},
   "source": [
    "I think we can find the frequencies of things now to see what are the distributions. "
   ]
  },
  {
   "cell_type": "code",
   "execution_count": 63,
   "metadata": {},
   "outputs": [],
   "source": [
    "for dataset in titanic_train_test:\n",
    "    for col in ['Ticket', 'Cabin', 'Fare', 'LastName']:\n",
    "        freq_col = f'Freq{col}'\n",
    "\n",
    "        freq = dataset[col].value_counts().to_frame()\n",
    "        freq.columns = [freq_col]\n",
    "\n",
    "        dataset[freq_col] = dataset.merge(freq, how='left', left_on=col, right_index=True)[freq_col]"
   ]
  },
  {
   "cell_type": "code",
   "execution_count": 64,
   "metadata": {},
   "outputs": [
    {
     "name": "stdout",
     "output_type": "stream",
     "text": [
      "<class 'pandas.core.frame.DataFrame'>\n",
      "RangeIndex: 891 entries, 0 to 890\n",
      "Data columns (total 22 columns):\n",
      "PassengerId       891 non-null int64\n",
      "Survived          891 non-null int64\n",
      "Pclass            891 non-null int64\n",
      "Name              891 non-null object\n",
      "Sex               891 non-null object\n",
      "Age               891 non-null float64\n",
      "SibSp             891 non-null int64\n",
      "Parch             891 non-null int64\n",
      "Ticket            891 non-null object\n",
      "Fare              891 non-null float64\n",
      "Cabin             891 non-null object\n",
      "Embarked          891 non-null object\n",
      "FamilySize        891 non-null int64\n",
      "CategoricalAge    891 non-null category\n",
      "Title             891 non-null object\n",
      "AgeCat            891 non-null category\n",
      "AgeRange          891 non-null category\n",
      "LastName          891 non-null object\n",
      "FreqTicket        891 non-null int64\n",
      "FreqCabin         891 non-null int64\n",
      "FreqFare          891 non-null int64\n",
      "FreqLastName      891 non-null int64\n",
      "dtypes: category(3), float64(2), int64(10), object(7)\n",
      "memory usage: 111.0+ KB\n"
     ]
    }
   ],
   "source": [
    "titanic_train.info()"
   ]
  },
  {
   "cell_type": "code",
   "execution_count": 66,
   "metadata": {},
   "outputs": [
    {
     "data": {
      "text/plain": [
       "<matplotlib.axes._subplots.AxesSubplot at 0xb5b9e50>"
      ]
     },
     "execution_count": 66,
     "metadata": {},
     "output_type": "execute_result"
    },
    {
     "data": {
      "image/png": "[encoded data removed]",
      "text/plain": [
       "<matplotlib.figure.Figure at 0xb594ab0>"
      ]
     },
     "metadata": {},
     "output_type": "display_data"
    }
   ],
   "source": [
    "titanic_train.groupby('FreqTicket').count().PassengerId.plot()"
   ]
  },
  {
   "cell_type": "code",
   "execution_count": 71,
   "metadata": {},
   "outputs": [
    {
     "data": {
      "text/plain": [
       "FreqCabin\n",
       "1      101\n",
       "2       76\n",
       "3       15\n",
       "4       12\n",
       "687    687\n",
       "Name: PassengerId, dtype: int64"
      ]
     },
     "execution_count": 71,
     "metadata": {},
     "output_type": "execute_result"
    }
   ],
   "source": [
    "titanic_train.groupby('FreqCabin').count().PassengerId"
   ]
  },
  {
   "cell_type": "code",
   "execution_count": 74,
   "metadata": {},
   "outputs": [
    {
     "data": {
      "text/plain": [
       "<matplotlib.axes._subplots.AxesSubplot at 0xb749b10>"
      ]
     },
     "execution_count": 74,
     "metadata": {},
     "output_type": "execute_result"
    },
    {
     "data": {
      "image/png": "[encoded data removed]",
      "text/plain": [
       "<matplotlib.figure.Figure at 0xb71a8f0>"
      ]
     },
     "metadata": {},
     "output_type": "display_data"
    }
   ],
   "source": [
    "titanic_train.groupby('FreqLastName').count().PassengerId.plot()"
   ]
  },
  {
   "cell_type": "code",
   "execution_count": 77,
   "metadata": {},
   "outputs": [
    {
     "data": {
      "text/plain": [
       "<matplotlib.axes._subplots.AxesSubplot at 0xb806e90>"
      ]
     },
     "execution_count": 77,
     "metadata": {},
     "output_type": "execute_result"
    },
    {
     "data": {
      "image/png": "[encoded data removed]",
      "text/plain": [
       "<matplotlib.figure.Figure at 0xb4944b0>"
      ]
     },
     "metadata": {},
     "output_type": "display_data"
    }
   ],
   "source": [
    "titanic_train.groupby('FreqFare').count().PassengerId.plot()"
   ]
  },
  {
   "cell_type": "markdown",
   "metadata": {},
   "source": [
    "Now, we can group things together. I'm going to use FamilySize first, then FreqTicket, then FreqCabin and then FreqLastName. If there is nothing, then the passanger was alone."
   ]
  },
  {
   "cell_type": "code",
   "execution_count": 78,
   "metadata": {},
   "outputs": [],
   "source": [
    "def groupify(x):\n",
    "    max_group = 5\n",
    "    if x['FamilySize'] > 0:\n",
    "        return x['FamilySize']\n",
    "    elif x['FreqTicket'] > 1:\n",
    "        return x['FreqTicket']\n",
    "    elif x['FreqCabin'] > 1 and x['Cabin'] != 'U':\n",
    "        return x['FreqCabin']\n",
    "    elif 1 < x['FreqLastName'] < max_group:\n",
    "        return x['FreqLastName']\n",
    "    elif 1 < x['FreqFare'] < max_group:\n",
    "        return x['FreqFare']\n",
    "    else:\n",
    "        return 0"
   ]
  },
  {
   "cell_type": "code",
   "execution_count": 79,
   "metadata": {},
   "outputs": [],
   "source": [
    "for dataset in titanic_train_test:\n",
    "    dataset['GroupSize'] = dataset.apply(groupify, axis=1)"
   ]
  },
  {
   "cell_type": "code",
   "execution_count": 80,
   "metadata": {},
   "outputs": [
    {
     "data": {
      "text/plain": [
       "<matplotlib.axes._subplots.AxesSubplot at 0xb89b470>"
      ]
     },
     "execution_count": 80,
     "metadata": {},
     "output_type": "execute_result"
    },
    {
     "data": {
      "image/png": "[encoded data removed]",
      "text/plain": [
       "<matplotlib.figure.Figure at 0xb8aa8d0>"
      ]
     },
     "metadata": {},
     "output_type": "display_data"
    }
   ],
   "source": [
    "titanic_train.groupby('GroupSize').count().PassengerId.plot()"
   ]
  },
  {
   "cell_type": "markdown",
   "metadata": {},
   "source": [
    "Let's see what we got finally:"
   ]
  },
  {
   "cell_type": "code",
   "execution_count": 83,
   "metadata": {},
   "outputs": [
    {
     "name": "stdout",
     "output_type": "stream",
     "text": [
      "   Pclass  Survived\n",
      "0       1  0.629630\n",
      "1       2  0.472826\n",
      "2       3  0.242363\n",
      "\n",
      "   GroupSize  Survived\n",
      "0          0  0.241486\n",
      "1          1  0.552795\n",
      "2          2  0.439614\n",
      "3          3  0.594937\n",
      "4          4  0.384615\n",
      "5          5  0.125000\n",
      "6          6  0.333333\n",
      "7          7  0.384615\n",
      "8         10  0.000000\n",
      "\n",
      "  Embarked  Survived\n",
      "0        C  0.553571\n",
      "1        Q  0.389610\n",
      "2        S  0.339009\n",
      "\n",
      "           AgeRange  Survived\n",
      "0     (0.34, 8.378]  0.666667\n",
      "1   (8.378, 16.336]  0.413043\n",
      "2  (16.336, 24.294]  0.355932\n",
      "3  (24.294, 32.252]  0.338150\n",
      "4   (32.252, 40.21]  0.440678\n",
      "5   (40.21, 48.168]  0.342857\n",
      "6  (48.168, 56.126]  0.466667\n",
      "7  (56.126, 64.084]  0.375000\n",
      "8  (64.084, 72.042]  0.000000\n",
      "9    (72.042, 80.0]  0.500000\n",
      "\n",
      "    Title  Survived\n",
      "0  Master  0.575000\n",
      "1    Miss  0.701087\n",
      "2      Mr  0.156673\n",
      "3     Mrs  0.795276\n",
      "4    Rare  0.347826\n",
      "\n"
     ]
    }
   ],
   "source": [
    "print(titanic_train[['Pclass', 'Survived']].groupby(['Pclass'], as_index=False).mean())\n",
    "print()\n",
    "print(titanic_train[['GroupSize', 'Survived']].groupby(['GroupSize'], as_index=False).mean())\n",
    "print()\n",
    "print(titanic_train[['Embarked', 'Survived']].groupby(['Embarked'], as_index=False).mean())\n",
    "print()\n",
    "print(titanic_train[['AgeRange', 'Survived']].groupby(['AgeRange'], as_index=False).mean())\n",
    "print()\n",
    "print(titanic_train[['Title', 'Survived']].groupby(['Title'], as_index=False).mean())\n",
    "print()\n"
   ]
  },
  {
   "cell_type": "markdown",
   "metadata": {},
   "source": [
    "Let's remove the ununsed columns and clean the final dataset."
   ]
  },
  {
   "cell_type": "code",
   "execution_count": 84,
   "metadata": {},
   "outputs": [],
   "source": [
    "y = titanic_train['Survived']\n",
    "titanic_train.drop(['Survived'], axis=1, inplace=True)"
   ]
  },
  {
   "cell_type": "code",
   "execution_count": 85,
   "metadata": {},
   "outputs": [],
   "source": [
    "for dataset in titanic_train_test:\n",
    "    dataset['Title'] = dataset['Title'].map({\"Mr\": 1, \"Miss\": 2, \"Mrs\": 3, \"Master\": 4, \"Rare\": 5}).astype(int)\n",
    "\n",
    "    dataset['Embarked'] = dataset['Embarked'].map({'S': 0, 'C': 1, 'Q': 2}).astype(int)\n",
    "\n",
    "    for AgeGroup in range(0, len(AgeBins)):\n",
    "        if AgeGroup == len(AgeBins) - 1:\n",
    "            dataset.loc[dataset['Age'] > AgeBins[AgeGroup], 'Age'] = AgeGroup\n",
    "        else:\n",
    "            dataset.loc[\n",
    "                (dataset['Age'] > AgeBins[AgeGroup]) & (dataset['Age'] <= AgeBins[AgeGroup + 1]), 'Age'] = AgeGroup\n",
    "\n",
    "    dataset[\"Pclass\"] = dataset[\"Pclass\"].astype('int')\n",
    "\n",
    "    # Sex & Title have correclation. We keep Title.\n",
    "    for col in dataset.columns:\n",
    "        if col not in ['Pclass', 'Age', 'Embarked', 'Title', 'GroupSize']:\n",
    "            dataset.drop([col], inplace=True, axis=1)\n",
    "    for col in dataset.columns:\n",
    "        dataset[col] = dataset[col].astype(\"category\")"
   ]
  },
  {
   "cell_type": "code",
   "execution_count": 86,
   "metadata": {},
   "outputs": [
    {
     "data": {
      "text/plain": [
       "Index(['Pclass', 'Age', 'Embarked', 'Title', 'GroupSize'], dtype='object')"
      ]
     },
     "execution_count": 86,
     "metadata": {},
     "output_type": "execute_result"
    }
   ],
   "source": [
    "titanic_train.columns"
   ]
  },
  {
   "cell_type": "markdown",
   "metadata": {},
   "source": [
    "As you can see, I almost remove all columns and kept the very few. I beleive that other columns are very related to the above ones and as such there will be correlation between them.\n",
    "\n",
    "I'm going to make binary variables from these columns."
   ]
  },
  {
   "cell_type": "code",
   "execution_count": 87,
   "metadata": {},
   "outputs": [],
   "source": [
    "titanic_train = pd.get_dummies(titanic_train, columns=None)\n",
    "titanic_test = pd.get_dummies(titanic_test, columns=None)"
   ]
  },
  {
   "cell_type": "code",
   "execution_count": 88,
   "metadata": {},
   "outputs": [
    {
     "name": "stdout",
     "output_type": "stream",
     "text": [
      "<class 'pandas.core.frame.DataFrame'>\n",
      "RangeIndex: 891 entries, 0 to 890\n",
      "Data columns (total 31 columns):\n",
      "Pclass_1        891 non-null uint8\n",
      "Pclass_2        891 non-null uint8\n",
      "Pclass_3        891 non-null uint8\n",
      "Age_0.0         891 non-null uint8\n",
      "Age_1.0         891 non-null uint8\n",
      "Age_2.0         891 non-null uint8\n",
      "Age_3.0         891 non-null uint8\n",
      "Age_4.0         891 non-null uint8\n",
      "Age_5.0         891 non-null uint8\n",
      "Age_6.0         891 non-null uint8\n",
      "Age_7.0         891 non-null uint8\n",
      "Age_8.0         891 non-null uint8\n",
      "Age_9.0         891 non-null uint8\n",
      "Age_10.0        891 non-null uint8\n",
      "Embarked_0      891 non-null uint8\n",
      "Embarked_1      891 non-null uint8\n",
      "Embarked_2      891 non-null uint8\n",
      "Title_1         891 non-null uint8\n",
      "Title_2         891 non-null uint8\n",
      "Title_3         891 non-null uint8\n",
      "Title_4         891 non-null uint8\n",
      "Title_5         891 non-null uint8\n",
      "GroupSize_0     891 non-null uint8\n",
      "GroupSize_1     891 non-null uint8\n",
      "GroupSize_2     891 non-null uint8\n",
      "GroupSize_3     891 non-null uint8\n",
      "GroupSize_4     891 non-null uint8\n",
      "GroupSize_5     891 non-null uint8\n",
      "GroupSize_6     891 non-null uint8\n",
      "GroupSize_7     891 non-null uint8\n",
      "GroupSize_10    891 non-null uint8\n",
      "dtypes: uint8(31)\n",
      "memory usage: 27.0 KB\n"
     ]
    }
   ],
   "source": [
    "titanic_train.info()"
   ]
  },
  {
   "cell_type": "markdown",
   "metadata": {},
   "source": [
    "To make sure we are using the same feature sets for both train and test, I need to clean the dataset a little more."
   ]
  },
  {
   "cell_type": "code",
   "execution_count": 89,
   "metadata": {},
   "outputs": [],
   "source": [
    "missing_cols = set(titanic_train.columns) - set(titanic_test.columns)\n",
    "for c in missing_cols:\n",
    "    titanic_test[c] = 0\n",
    "missing_cols = set(titanic_test.columns) - set(titanic_train.columns)\n",
    "for c in missing_cols:\n",
    "    titanic_test[c] = 0"
   ]
  },
  {
   "cell_type": "code",
   "execution_count": 90,
   "metadata": {},
   "outputs": [],
   "source": [
    "X_train, y_train = titanic_train, y\n",
    "X_test = titanic_test"
   ]
  },
  {
   "cell_type": "markdown",
   "metadata": {},
   "source": [
    "I'm going to try a few classifiers with different paramters (cross validation)"
   ]
  },
  {
   "cell_type": "code",
   "execution_count": 91,
   "metadata": {},
   "outputs": [],
   "source": [
    "from sklearn.model_selection import StratifiedShuffleSplit\n",
    "\n",
    "# Set the parameters by cross-validation\n",
    "cv = StratifiedShuffleSplit(n_splits=5, test_size=0.2, random_state=0)"
   ]
  },
  {
   "cell_type": "code",
   "execution_count": 93,
   "metadata": {},
   "outputs": [
    {
     "data": {
      "text/plain": [
       "GridSearchCV(cv=StratifiedShuffleSplit(n_splits=5, random_state=0, test_size=0.2,\n",
       "            train_size=None),\n",
       "       error_score='raise',\n",
       "       estimator=SVC(C=1.0, cache_size=200, class_weight=None, coef0=0.0,\n",
       "  decision_function_shape='ovr', degree=3, gamma='auto', kernel='rbf',\n",
       "  max_iter=-1, probability=False, random_state=None, shrinking=True,\n",
       "  tol=0.001, verbose=False),\n",
       "       fit_params=None, iid=True, n_jobs=1,\n",
       "       param_grid={'gamma': array([  1.00000e-03,   1.00000e-02,   1.00000e-01,   1.00000e+00,\n",
       "         1.00000e+01,   1.00000e+02,   1.00000e+03]), 'C': array([  1.00000e-03,   1.00000e-02,   1.00000e-01,   1.00000e+00,\n",
       "         1.00000e+01,   1.00000e+02,   1.00000e+03])},\n",
       "       pre_dispatch='2*n_jobs', refit=True, return_train_score=True,\n",
       "       scoring=None, verbose=0)"
      ]
     },
     "execution_count": 93,
     "metadata": {},
     "output_type": "execute_result"
    }
   ],
   "source": [
    "from sklearn.model_selection import GridSearchCV\n",
    "from sklearn import svm\n",
    "import numpy as np\n",
    "\n",
    "# run svm\n",
    "C_range = np.logspace(-3, 3, 7)\n",
    "gamma_range = np.logspace(-3, 3, 7)\n",
    "param_grid = dict(gamma=gamma_range, C=C_range)\n",
    "svm_model = GridSearchCV(svm.SVC(), param_grid=param_grid, cv=cv)\n",
    "svm_model.fit(X_train, y_train)"
   ]
  },
  {
   "cell_type": "code",
   "execution_count": 94,
   "metadata": {},
   "outputs": [
    {
     "name": "stdout",
     "output_type": "stream",
     "text": [
      "[SVM] The best parameters are {'C': 1.0, 'gamma': 0.10000000000000001} with a score of 0.82\n"
     ]
    }
   ],
   "source": [
    "print(\"[SVM] The best parameters are %s with a score of %0.2f\"\n",
    "      % (svm_model.best_params_, svm_model.best_score_))"
   ]
  },
  {
   "cell_type": "markdown",
   "metadata": {},
   "source": [
    "Now, let's try Multi-layer Perceptron."
   ]
  },
  {
   "cell_type": "code",
   "execution_count": 95,
   "metadata": {},
   "outputs": [
    {
     "data": {
      "text/plain": [
       "GridSearchCV(cv=StratifiedShuffleSplit(n_splits=5, random_state=0, test_size=0.2,\n",
       "            train_size=None),\n",
       "       error_score='raise',\n",
       "       estimator=MLPClassifier(activation='relu', alpha=0.0001, batch_size='auto', beta_1=0.9,\n",
       "       beta_2=0.999, early_stopping=False, epsilon=1e-08,\n",
       "       hidden_layer_sizes=(100,), learning_rate='constant',\n",
       "       learning_rate_init=0.001, max_iter=200, momentum=0.9,\n",
       "       nesterovs_momentum=True, power_t=0.5, random_state=None,\n",
       "       shuffle=True, solver='lbfgs', tol=0.0001, validation_fraction=0.1,\n",
       "       verbose=False, warm_start=False),\n",
       "       fit_params=None, iid=True, n_jobs=1,\n",
       "       param_grid={'alpha': array([  1.00000e-03,   1.00000e-02,   1.00000e-01,   1.00000e+00,\n",
       "         1.00000e+01,   1.00000e+02,   1.00000e+03])},\n",
       "       pre_dispatch='2*n_jobs', refit=True, return_train_score=True,\n",
       "       scoring=None, verbose=0)"
      ]
     },
     "execution_count": 95,
     "metadata": {},
     "output_type": "execute_result"
    }
   ],
   "source": [
    "from sklearn.neural_network import MLPClassifier\n",
    "\n",
    "# MLP\n",
    "alpha_range = np.logspace(-3, 3, 7)\n",
    "param_grid = dict(alpha=alpha_range)\n",
    "mlp = GridSearchCV(MLPClassifier(solver='lbfgs'), param_grid=param_grid, cv=cv)\n",
    "mlp.fit(X_train, y_train)"
   ]
  },
  {
   "cell_type": "code",
   "execution_count": 96,
   "metadata": {},
   "outputs": [
    {
     "name": "stdout",
     "output_type": "stream",
     "text": [
      "[MLP] The best parameters are {'alpha': 10.0} with a score of 0.81\n"
     ]
    }
   ],
   "source": [
    "print(\"[MLP] The best parameters are %s with a score of %0.2f\"\n",
    "      % (mlp.best_params_, mlp.best_score_))"
   ]
  },
  {
   "cell_type": "code",
   "execution_count": 97,
   "metadata": {},
   "outputs": [
    {
     "data": {
      "text/plain": [
       "GridSearchCV(cv=StratifiedShuffleSplit(n_splits=5, random_state=0, test_size=0.2,\n",
       "            train_size=None),\n",
       "       error_score='raise',\n",
       "       estimator=DecisionTreeClassifier(class_weight=None, criterion='gini', max_depth=None,\n",
       "            max_features=None, max_leaf_nodes=None,\n",
       "            min_impurity_decrease=0.0, min_impurity_split=None,\n",
       "            min_samples_leaf=1, min_samples_split=2,\n",
       "            min_weight_fraction_leaf=0.0, presort=False, random_state=None,\n",
       "            splitter='best'),\n",
       "       fit_params=None, iid=True, n_jobs=1,\n",
       "       param_grid={'max_depth': array([10, 11, 12, 13, 14, 15]), 'min_samples_split': array([2, 3, 4, 5])},\n",
       "       pre_dispatch='2*n_jobs', refit=True, return_train_score=True,\n",
       "       scoring=None, verbose=0)"
      ]
     },
     "execution_count": 97,
     "metadata": {},
     "output_type": "execute_result"
    }
   ],
   "source": [
    "from sklearn.tree import DecisionTreeClassifier\n",
    "\n",
    "# Tree\n",
    "max_depth_range = np.linspace(10, 15, 6).astype(int)\n",
    "min_samples_split_range = np.linspace(2, 5, 4).astype(int)\n",
    "param_grid = dict(max_depth=max_depth_range, min_samples_split=min_samples_split_range)\n",
    "clf = GridSearchCV(DecisionTreeClassifier(), param_grid=param_grid, cv=cv)\n",
    "clf.fit(X_train, y_train)\n"
   ]
  },
  {
   "cell_type": "code",
   "execution_count": 98,
   "metadata": {},
   "outputs": [
    {
     "name": "stdout",
     "output_type": "stream",
     "text": [
      "[TREE] The best parameters are {'max_depth': 10, 'min_samples_split': 3} with a score of 0.81\n"
     ]
    }
   ],
   "source": [
    "print(\"[TREE] The best parameters are %s with a score of %0.2f\"\n",
    "      % (clf.best_params_, clf.best_score_))"
   ]
  },
  {
   "cell_type": "code",
   "execution_count": 100,
   "metadata": {},
   "outputs": [
    {
     "name": "stdout",
     "output_type": "stream",
     "text": [
      "Fitting 5 folds for each of 36 candidates, totalling 180 fits\n",
      "[CV] criterion=gini, max_depth=10, min_samples_split=2, n_estimators=250 \n",
      "[CV]  criterion=gini, max_depth=10, min_samples_split=2, n_estimators=250, total=   0.5s\n",
      "[CV] criterion=gini, max_depth=10, min_samples_split=2, n_estimators=250 \n"
     ]
    },
    {
     "name": "stderr",
     "output_type": "stream",
     "text": [
      "[Parallel(n_jobs=1)]: Done   1 out of   1 | elapsed:    0.5s remaining:    0.0s\n"
     ]
    },
    {
     "name": "stdout",
     "output_type": "stream",
     "text": [
      "[CV]  criterion=gini, max_depth=10, min_samples_split=2, n_estimators=250, total=   0.5s\n",
      "[CV] criterion=gini, max_depth=10, min_samples_split=2, n_estimators=250 \n",
      "[CV]  criterion=gini, max_depth=10, min_samples_split=2, n_estimators=250, total=   0.5s\n",
      "[CV] criterion=gini, max_depth=10, min_samples_split=2, n_estimators=250 \n",
      "[CV]  criterion=gini, max_depth=10, min_samples_split=2, n_estimators=250, total=   0.5s\n",
      "[CV] criterion=gini, max_depth=10, min_samples_split=2, n_estimators=250 \n",
      "[CV]  criterion=gini, max_depth=10, min_samples_split=2, n_estimators=250, total=   0.5s\n",
      "[CV] criterion=gini, max_depth=10, min_samples_split=2, n_estimators=300 \n",
      "[CV]  criterion=gini, max_depth=10, min_samples_split=2, n_estimators=300, total=   0.6s\n",
      "[CV] criterion=gini, max_depth=10, min_samples_split=2, n_estimators=300 \n",
      "[CV]  criterion=gini, max_depth=10, min_samples_split=2, n_estimators=300, total=   0.6s\n",
      "[CV] criterion=gini, max_depth=10, min_samples_split=2, n_estimators=300 \n",
      "[CV]  criterion=gini, max_depth=10, min_samples_split=2, n_estimators=300, total=   0.6s\n",
      "[CV] criterion=gini, max_depth=10, min_samples_split=2, n_estimators=300 \n",
      "[CV]  criterion=gini, max_depth=10, min_samples_split=2, n_estimators=300, total=   0.6s\n",
      "[CV] criterion=gini, max_depth=10, min_samples_split=2, n_estimators=300 \n",
      "[CV]  criterion=gini, max_depth=10, min_samples_split=2, n_estimators=300, total=   0.6s\n",
      "[CV] criterion=gini, max_depth=10, min_samples_split=3, n_estimators=250 \n",
      "[CV]  criterion=gini, max_depth=10, min_samples_split=3, n_estimators=250, total=   0.5s\n",
      "[CV] criterion=gini, max_depth=10, min_samples_split=3, n_estimators=250 \n",
      "[CV]  criterion=gini, max_depth=10, min_samples_split=3, n_estimators=250, total=   0.5s\n",
      "[CV] criterion=gini, max_depth=10, min_samples_split=3, n_estimators=250 \n",
      "[CV]  criterion=gini, max_depth=10, min_samples_split=3, n_estimators=250, total=   0.5s\n",
      "[CV] criterion=gini, max_depth=10, min_samples_split=3, n_estimators=250 \n",
      "[CV]  criterion=gini, max_depth=10, min_samples_split=3, n_estimators=250, total=   0.5s\n",
      "[CV] criterion=gini, max_depth=10, min_samples_split=3, n_estimators=250 \n",
      "[CV]  criterion=gini, max_depth=10, min_samples_split=3, n_estimators=250, total=   0.5s\n",
      "[CV] criterion=gini, max_depth=10, min_samples_split=3, n_estimators=300 \n",
      "[CV]  criterion=gini, max_depth=10, min_samples_split=3, n_estimators=300, total=   0.5s\n",
      "[CV] criterion=gini, max_depth=10, min_samples_split=3, n_estimators=300 \n",
      "[CV]  criterion=gini, max_depth=10, min_samples_split=3, n_estimators=300, total=   0.6s\n",
      "[CV] criterion=gini, max_depth=10, min_samples_split=3, n_estimators=300 \n",
      "[CV]  criterion=gini, max_depth=10, min_samples_split=3, n_estimators=300, total=   0.6s\n",
      "[CV] criterion=gini, max_depth=10, min_samples_split=3, n_estimators=300 \n",
      "[CV]  criterion=gini, max_depth=10, min_samples_split=3, n_estimators=300, total=   0.6s\n",
      "[CV] criterion=gini, max_depth=10, min_samples_split=3, n_estimators=300 \n",
      "[CV]  criterion=gini, max_depth=10, min_samples_split=3, n_estimators=300, total=   0.6s\n",
      "[CV] criterion=gini, max_depth=10, min_samples_split=4, n_estimators=250 \n",
      "[CV]  criterion=gini, max_depth=10, min_samples_split=4, n_estimators=250, total=   0.5s\n",
      "[CV] criterion=gini, max_depth=10, min_samples_split=4, n_estimators=250 \n",
      "[CV]  criterion=gini, max_depth=10, min_samples_split=4, n_estimators=250, total=   0.5s\n",
      "[CV] criterion=gini, max_depth=10, min_samples_split=4, n_estimators=250 \n",
      "[CV]  criterion=gini, max_depth=10, min_samples_split=4, n_estimators=250, total=   0.5s\n",
      "[CV] criterion=gini, max_depth=10, min_samples_split=4, n_estimators=250 \n",
      "[CV]  criterion=gini, max_depth=10, min_samples_split=4, n_estimators=250, total=   0.5s\n",
      "[CV] criterion=gini, max_depth=10, min_samples_split=4, n_estimators=250 \n",
      "[CV]  criterion=gini, max_depth=10, min_samples_split=4, n_estimators=250, total=   0.5s\n",
      "[CV] criterion=gini, max_depth=10, min_samples_split=4, n_estimators=300 \n",
      "[CV]  criterion=gini, max_depth=10, min_samples_split=4, n_estimators=300, total=   0.6s\n",
      "[CV] criterion=gini, max_depth=10, min_samples_split=4, n_estimators=300 \n",
      "[CV]  criterion=gini, max_depth=10, min_samples_split=4, n_estimators=300, total=   0.6s\n",
      "[CV] criterion=gini, max_depth=10, min_samples_split=4, n_estimators=300 \n",
      "[CV]  criterion=gini, max_depth=10, min_samples_split=4, n_estimators=300, total=   0.6s\n",
      "[CV] criterion=gini, max_depth=10, min_samples_split=4, n_estimators=300 \n",
      "[CV]  criterion=gini, max_depth=10, min_samples_split=4, n_estimators=300, total=   0.6s\n",
      "[CV] criterion=gini, max_depth=10, min_samples_split=4, n_estimators=300 \n",
      "[CV]  criterion=gini, max_depth=10, min_samples_split=4, n_estimators=300, total=   0.7s\n",
      "[CV] criterion=gini, max_depth=15, min_samples_split=2, n_estimators=250 \n",
      "[CV]  criterion=gini, max_depth=15, min_samples_split=2, n_estimators=250, total=   0.5s\n",
      "[CV] criterion=gini, max_depth=15, min_samples_split=2, n_estimators=250 \n",
      "[CV]  criterion=gini, max_depth=15, min_samples_split=2, n_estimators=250, total=   0.5s\n",
      "[CV] criterion=gini, max_depth=15, min_samples_split=2, n_estimators=250 \n",
      "[CV]  criterion=gini, max_depth=15, min_samples_split=2, n_estimators=250, total=   0.5s\n",
      "[CV] criterion=gini, max_depth=15, min_samples_split=2, n_estimators=250 \n",
      "[CV]  criterion=gini, max_depth=15, min_samples_split=2, n_estimators=250, total=   0.5s\n",
      "[CV] criterion=gini, max_depth=15, min_samples_split=2, n_estimators=250 \n",
      "[CV]  criterion=gini, max_depth=15, min_samples_split=2, n_estimators=250, total=   0.5s\n",
      "[CV] criterion=gini, max_depth=15, min_samples_split=2, n_estimators=300 \n",
      "[CV]  criterion=gini, max_depth=15, min_samples_split=2, n_estimators=300, total=   0.6s\n",
      "[CV] criterion=gini, max_depth=15, min_samples_split=2, n_estimators=300 \n",
      "[CV]  criterion=gini, max_depth=15, min_samples_split=2, n_estimators=300, total=   0.6s\n",
      "[CV] criterion=gini, max_depth=15, min_samples_split=2, n_estimators=300 \n",
      "[CV]  criterion=gini, max_depth=15, min_samples_split=2, n_estimators=300, total=   0.6s\n",
      "[CV] criterion=gini, max_depth=15, min_samples_split=2, n_estimators=300 \n",
      "[CV]  criterion=gini, max_depth=15, min_samples_split=2, n_estimators=300, total=   0.6s\n",
      "[CV] criterion=gini, max_depth=15, min_samples_split=2, n_estimators=300 \n",
      "[CV]  criterion=gini, max_depth=15, min_samples_split=2, n_estimators=300, total=   0.6s\n",
      "[CV] criterion=gini, max_depth=15, min_samples_split=3, n_estimators=250 \n",
      "[CV]  criterion=gini, max_depth=15, min_samples_split=3, n_estimators=250, total=   0.5s\n",
      "[CV] criterion=gini, max_depth=15, min_samples_split=3, n_estimators=250 \n",
      "[CV]  criterion=gini, max_depth=15, min_samples_split=3, n_estimators=250, total=   0.5s\n",
      "[CV] criterion=gini, max_depth=15, min_samples_split=3, n_estimators=250 \n",
      "[CV]  criterion=gini, max_depth=15, min_samples_split=3, n_estimators=250, total=   0.5s\n",
      "[CV] criterion=gini, max_depth=15, min_samples_split=3, n_estimators=250 \n",
      "[CV]  criterion=gini, max_depth=15, min_samples_split=3, n_estimators=250, total=   0.5s\n",
      "[CV] criterion=gini, max_depth=15, min_samples_split=3, n_estimators=250 \n",
      "[CV]  criterion=gini, max_depth=15, min_samples_split=3, n_estimators=250, total=   0.5s\n",
      "[CV] criterion=gini, max_depth=15, min_samples_split=3, n_estimators=300 \n",
      "[CV]  criterion=gini, max_depth=15, min_samples_split=3, n_estimators=300, total=   0.6s\n",
      "[CV] criterion=gini, max_depth=15, min_samples_split=3, n_estimators=300 \n",
      "[CV]  criterion=gini, max_depth=15, min_samples_split=3, n_estimators=300, total=   0.6s\n",
      "[CV] criterion=gini, max_depth=15, min_samples_split=3, n_estimators=300 \n",
      "[CV]  criterion=gini, max_depth=15, min_samples_split=3, n_estimators=300, total=   0.6s\n",
      "[CV] criterion=gini, max_depth=15, min_samples_split=3, n_estimators=300 \n",
      "[CV]  criterion=gini, max_depth=15, min_samples_split=3, n_estimators=300, total=   0.7s\n",
      "[CV] criterion=gini, max_depth=15, min_samples_split=3, n_estimators=300 \n",
      "[CV]  criterion=gini, max_depth=15, min_samples_split=3, n_estimators=300, total=   0.6s\n",
      "[CV] criterion=gini, max_depth=15, min_samples_split=4, n_estimators=250 \n",
      "[CV]  criterion=gini, max_depth=15, min_samples_split=4, n_estimators=250, total=   0.5s\n",
      "[CV] criterion=gini, max_depth=15, min_samples_split=4, n_estimators=250 \n",
      "[CV]  criterion=gini, max_depth=15, min_samples_split=4, n_estimators=250, total=   0.6s\n",
      "[CV] criterion=gini, max_depth=15, min_samples_split=4, n_estimators=250 \n"
     ]
    },
    {
     "name": "stdout",
     "output_type": "stream",
     "text": [
      "[CV]  criterion=gini, max_depth=15, min_samples_split=4, n_estimators=250, total=   0.5s\n",
      "[CV] criterion=gini, max_depth=15, min_samples_split=4, n_estimators=250 \n",
      "[CV]  criterion=gini, max_depth=15, min_samples_split=4, n_estimators=250, total=   0.5s\n",
      "[CV] criterion=gini, max_depth=15, min_samples_split=4, n_estimators=250 \n",
      "[CV]  criterion=gini, max_depth=15, min_samples_split=4, n_estimators=250, total=   0.5s\n",
      "[CV] criterion=gini, max_depth=15, min_samples_split=4, n_estimators=300 \n",
      "[CV]  criterion=gini, max_depth=15, min_samples_split=4, n_estimators=300, total=   0.6s\n",
      "[CV] criterion=gini, max_depth=15, min_samples_split=4, n_estimators=300 \n",
      "[CV]  criterion=gini, max_depth=15, min_samples_split=4, n_estimators=300, total=   0.6s\n",
      "[CV] criterion=gini, max_depth=15, min_samples_split=4, n_estimators=300 \n",
      "[CV]  criterion=gini, max_depth=15, min_samples_split=4, n_estimators=300, total=   0.7s\n",
      "[CV] criterion=gini, max_depth=15, min_samples_split=4, n_estimators=300 \n",
      "[CV]  criterion=gini, max_depth=15, min_samples_split=4, n_estimators=300, total=   0.6s\n",
      "[CV] criterion=gini, max_depth=15, min_samples_split=4, n_estimators=300 \n",
      "[CV]  criterion=gini, max_depth=15, min_samples_split=4, n_estimators=300, total=   0.6s\n",
      "[CV] criterion=gini, max_depth=20, min_samples_split=2, n_estimators=250 \n",
      "[CV]  criterion=gini, max_depth=20, min_samples_split=2, n_estimators=250, total=   0.5s\n",
      "[CV] criterion=gini, max_depth=20, min_samples_split=2, n_estimators=250 \n",
      "[CV]  criterion=gini, max_depth=20, min_samples_split=2, n_estimators=250, total=   0.5s\n",
      "[CV] criterion=gini, max_depth=20, min_samples_split=2, n_estimators=250 \n",
      "[CV]  criterion=gini, max_depth=20, min_samples_split=2, n_estimators=250, total=   0.5s\n",
      "[CV] criterion=gini, max_depth=20, min_samples_split=2, n_estimators=250 \n",
      "[CV]  criterion=gini, max_depth=20, min_samples_split=2, n_estimators=250, total=   0.5s\n",
      "[CV] criterion=gini, max_depth=20, min_samples_split=2, n_estimators=250 \n",
      "[CV]  criterion=gini, max_depth=20, min_samples_split=2, n_estimators=250, total=   0.5s\n",
      "[CV] criterion=gini, max_depth=20, min_samples_split=2, n_estimators=300 \n",
      "[CV]  criterion=gini, max_depth=20, min_samples_split=2, n_estimators=300, total=   0.7s\n",
      "[CV] criterion=gini, max_depth=20, min_samples_split=2, n_estimators=300 \n",
      "[CV]  criterion=gini, max_depth=20, min_samples_split=2, n_estimators=300, total=   0.7s\n",
      "[CV] criterion=gini, max_depth=20, min_samples_split=2, n_estimators=300 \n",
      "[CV]  criterion=gini, max_depth=20, min_samples_split=2, n_estimators=300, total=   0.8s\n",
      "[CV] criterion=gini, max_depth=20, min_samples_split=2, n_estimators=300 \n",
      "[CV]  criterion=gini, max_depth=20, min_samples_split=2, n_estimators=300, total=   0.8s\n",
      "[CV] criterion=gini, max_depth=20, min_samples_split=2, n_estimators=300 \n",
      "[CV]  criterion=gini, max_depth=20, min_samples_split=2, n_estimators=300, total=   0.8s\n",
      "[CV] criterion=gini, max_depth=20, min_samples_split=3, n_estimators=250 \n",
      "[CV]  criterion=gini, max_depth=20, min_samples_split=3, n_estimators=250, total=   0.7s\n",
      "[CV] criterion=gini, max_depth=20, min_samples_split=3, n_estimators=250 \n",
      "[CV]  criterion=gini, max_depth=20, min_samples_split=3, n_estimators=250, total=   0.7s\n",
      "[CV] criterion=gini, max_depth=20, min_samples_split=3, n_estimators=250 \n",
      "[CV]  criterion=gini, max_depth=20, min_samples_split=3, n_estimators=250, total=   0.9s\n",
      "[CV] criterion=gini, max_depth=20, min_samples_split=3, n_estimators=250 \n",
      "[CV]  criterion=gini, max_depth=20, min_samples_split=3, n_estimators=250, total=   0.6s\n",
      "[CV] criterion=gini, max_depth=20, min_samples_split=3, n_estimators=250 \n",
      "[CV]  criterion=gini, max_depth=20, min_samples_split=3, n_estimators=250, total=   0.6s\n",
      "[CV] criterion=gini, max_depth=20, min_samples_split=3, n_estimators=300 \n",
      "[CV]  criterion=gini, max_depth=20, min_samples_split=3, n_estimators=300, total=   1.1s\n",
      "[CV] criterion=gini, max_depth=20, min_samples_split=3, n_estimators=300 \n",
      "[CV]  criterion=gini, max_depth=20, min_samples_split=3, n_estimators=300, total=   0.9s\n",
      "[CV] criterion=gini, max_depth=20, min_samples_split=3, n_estimators=300 \n",
      "[CV]  criterion=gini, max_depth=20, min_samples_split=3, n_estimators=300, total=   1.0s\n",
      "[CV] criterion=gini, max_depth=20, min_samples_split=3, n_estimators=300 \n",
      "[CV]  criterion=gini, max_depth=20, min_samples_split=3, n_estimators=300, total=   0.8s\n",
      "[CV] criterion=gini, max_depth=20, min_samples_split=3, n_estimators=300 \n",
      "[CV]  criterion=gini, max_depth=20, min_samples_split=3, n_estimators=300, total=   0.8s\n",
      "[CV] criterion=gini, max_depth=20, min_samples_split=4, n_estimators=250 \n",
      "[CV]  criterion=gini, max_depth=20, min_samples_split=4, n_estimators=250, total=   0.7s\n",
      "[CV] criterion=gini, max_depth=20, min_samples_split=4, n_estimators=250 \n",
      "[CV]  criterion=gini, max_depth=20, min_samples_split=4, n_estimators=250, total=   0.6s\n",
      "[CV] criterion=gini, max_depth=20, min_samples_split=4, n_estimators=250 \n",
      "[CV]  criterion=gini, max_depth=20, min_samples_split=4, n_estimators=250, total=   0.7s\n",
      "[CV] criterion=gini, max_depth=20, min_samples_split=4, n_estimators=250 \n",
      "[CV]  criterion=gini, max_depth=20, min_samples_split=4, n_estimators=250, total=   0.7s\n",
      "[CV] criterion=gini, max_depth=20, min_samples_split=4, n_estimators=250 \n",
      "[CV]  criterion=gini, max_depth=20, min_samples_split=4, n_estimators=250, total=   0.7s\n",
      "[CV] criterion=gini, max_depth=20, min_samples_split=4, n_estimators=300 \n",
      "[CV]  criterion=gini, max_depth=20, min_samples_split=4, n_estimators=300, total=   0.8s\n",
      "[CV] criterion=gini, max_depth=20, min_samples_split=4, n_estimators=300 \n",
      "[CV]  criterion=gini, max_depth=20, min_samples_split=4, n_estimators=300, total=   0.8s\n",
      "[CV] criterion=gini, max_depth=20, min_samples_split=4, n_estimators=300 \n",
      "[CV]  criterion=gini, max_depth=20, min_samples_split=4, n_estimators=300, total=   0.9s\n",
      "[CV] criterion=gini, max_depth=20, min_samples_split=4, n_estimators=300 \n",
      "[CV]  criterion=gini, max_depth=20, min_samples_split=4, n_estimators=300, total=   0.8s\n",
      "[CV] criterion=gini, max_depth=20, min_samples_split=4, n_estimators=300 \n",
      "[CV]  criterion=gini, max_depth=20, min_samples_split=4, n_estimators=300, total=   0.8s\n",
      "[CV] criterion=entropy, max_depth=10, min_samples_split=2, n_estimators=250 \n",
      "[CV]  criterion=entropy, max_depth=10, min_samples_split=2, n_estimators=250, total=   0.6s\n",
      "[CV] criterion=entropy, max_depth=10, min_samples_split=2, n_estimators=250 \n",
      "[CV]  criterion=entropy, max_depth=10, min_samples_split=2, n_estimators=250, total=   0.7s\n",
      "[CV] criterion=entropy, max_depth=10, min_samples_split=2, n_estimators=250 \n",
      "[CV]  criterion=entropy, max_depth=10, min_samples_split=2, n_estimators=250, total=   0.6s\n",
      "[CV] criterion=entropy, max_depth=10, min_samples_split=2, n_estimators=250 \n",
      "[CV]  criterion=entropy, max_depth=10, min_samples_split=2, n_estimators=250, total=   0.7s\n",
      "[CV] criterion=entropy, max_depth=10, min_samples_split=2, n_estimators=250 \n",
      "[CV]  criterion=entropy, max_depth=10, min_samples_split=2, n_estimators=250, total=   0.7s\n",
      "[CV] criterion=entropy, max_depth=10, min_samples_split=2, n_estimators=300 \n",
      "[CV]  criterion=entropy, max_depth=10, min_samples_split=2, n_estimators=300, total=   0.9s\n",
      "[CV] criterion=entropy, max_depth=10, min_samples_split=2, n_estimators=300 \n",
      "[CV]  criterion=entropy, max_depth=10, min_samples_split=2, n_estimators=300, total=   0.8s\n",
      "[CV] criterion=entropy, max_depth=10, min_samples_split=2, n_estimators=300 \n",
      "[CV]  criterion=entropy, max_depth=10, min_samples_split=2, n_estimators=300, total=   0.8s\n",
      "[CV] criterion=entropy, max_depth=10, min_samples_split=2, n_estimators=300 \n",
      "[CV]  criterion=entropy, max_depth=10, min_samples_split=2, n_estimators=300, total=   0.9s\n",
      "[CV] criterion=entropy, max_depth=10, min_samples_split=2, n_estimators=300 \n",
      "[CV]  criterion=entropy, max_depth=10, min_samples_split=2, n_estimators=300, total=   0.8s\n",
      "[CV] criterion=entropy, max_depth=10, min_samples_split=3, n_estimators=250 \n",
      "[CV]  criterion=entropy, max_depth=10, min_samples_split=3, n_estimators=250, total=   0.6s\n",
      "[CV] criterion=entropy, max_depth=10, min_samples_split=3, n_estimators=250 \n",
      "[CV]  criterion=entropy, max_depth=10, min_samples_split=3, n_estimators=250, total=   0.6s\n",
      "[CV] criterion=entropy, max_depth=10, min_samples_split=3, n_estimators=250 \n"
     ]
    },
    {
     "name": "stdout",
     "output_type": "stream",
     "text": [
      "[CV]  criterion=entropy, max_depth=10, min_samples_split=3, n_estimators=250, total=   0.7s\n",
      "[CV] criterion=entropy, max_depth=10, min_samples_split=3, n_estimators=250 \n",
      "[CV]  criterion=entropy, max_depth=10, min_samples_split=3, n_estimators=250, total=   0.7s\n",
      "[CV] criterion=entropy, max_depth=10, min_samples_split=3, n_estimators=250 \n",
      "[CV]  criterion=entropy, max_depth=10, min_samples_split=3, n_estimators=250, total=   0.7s\n",
      "[CV] criterion=entropy, max_depth=10, min_samples_split=3, n_estimators=300 \n",
      "[CV]  criterion=entropy, max_depth=10, min_samples_split=3, n_estimators=300, total=   0.8s\n",
      "[CV] criterion=entropy, max_depth=10, min_samples_split=3, n_estimators=300 \n",
      "[CV]  criterion=entropy, max_depth=10, min_samples_split=3, n_estimators=300, total=   0.8s\n",
      "[CV] criterion=entropy, max_depth=10, min_samples_split=3, n_estimators=300 \n",
      "[CV]  criterion=entropy, max_depth=10, min_samples_split=3, n_estimators=300, total=   0.9s\n",
      "[CV] criterion=entropy, max_depth=10, min_samples_split=3, n_estimators=300 \n",
      "[CV]  criterion=entropy, max_depth=10, min_samples_split=3, n_estimators=300, total=   0.9s\n",
      "[CV] criterion=entropy, max_depth=10, min_samples_split=3, n_estimators=300 \n",
      "[CV]  criterion=entropy, max_depth=10, min_samples_split=3, n_estimators=300, total=   0.8s\n",
      "[CV] criterion=entropy, max_depth=10, min_samples_split=4, n_estimators=250 \n",
      "[CV]  criterion=entropy, max_depth=10, min_samples_split=4, n_estimators=250, total=   0.6s\n",
      "[CV] criterion=entropy, max_depth=10, min_samples_split=4, n_estimators=250 \n",
      "[CV]  criterion=entropy, max_depth=10, min_samples_split=4, n_estimators=250, total=   0.7s\n",
      "[CV] criterion=entropy, max_depth=10, min_samples_split=4, n_estimators=250 \n",
      "[CV]  criterion=entropy, max_depth=10, min_samples_split=4, n_estimators=250, total=   0.6s\n",
      "[CV] criterion=entropy, max_depth=10, min_samples_split=4, n_estimators=250 \n",
      "[CV]  criterion=entropy, max_depth=10, min_samples_split=4, n_estimators=250, total=   0.6s\n",
      "[CV] criterion=entropy, max_depth=10, min_samples_split=4, n_estimators=250 \n",
      "[CV]  criterion=entropy, max_depth=10, min_samples_split=4, n_estimators=250, total=   0.7s\n",
      "[CV] criterion=entropy, max_depth=10, min_samples_split=4, n_estimators=300 \n",
      "[CV]  criterion=entropy, max_depth=10, min_samples_split=4, n_estimators=300, total=   0.9s\n",
      "[CV] criterion=entropy, max_depth=10, min_samples_split=4, n_estimators=300 \n",
      "[CV]  criterion=entropy, max_depth=10, min_samples_split=4, n_estimators=300, total=   0.8s\n",
      "[CV] criterion=entropy, max_depth=10, min_samples_split=4, n_estimators=300 \n",
      "[CV]  criterion=entropy, max_depth=10, min_samples_split=4, n_estimators=300, total=   0.8s\n",
      "[CV] criterion=entropy, max_depth=10, min_samples_split=4, n_estimators=300 \n",
      "[CV]  criterion=entropy, max_depth=10, min_samples_split=4, n_estimators=300, total=   0.8s\n",
      "[CV] criterion=entropy, max_depth=10, min_samples_split=4, n_estimators=300 \n",
      "[CV]  criterion=entropy, max_depth=10, min_samples_split=4, n_estimators=300, total=   0.8s\n",
      "[CV] criterion=entropy, max_depth=15, min_samples_split=2, n_estimators=250 \n",
      "[CV]  criterion=entropy, max_depth=15, min_samples_split=2, n_estimators=250, total=   0.7s\n",
      "[CV] criterion=entropy, max_depth=15, min_samples_split=2, n_estimators=250 \n",
      "[CV]  criterion=entropy, max_depth=15, min_samples_split=2, n_estimators=250, total=   0.8s\n",
      "[CV] criterion=entropy, max_depth=15, min_samples_split=2, n_estimators=250 \n",
      "[CV]  criterion=entropy, max_depth=15, min_samples_split=2, n_estimators=250, total=   0.8s\n",
      "[CV] criterion=entropy, max_depth=15, min_samples_split=2, n_estimators=250 \n",
      "[CV]  criterion=entropy, max_depth=15, min_samples_split=2, n_estimators=250, total=   0.8s\n",
      "[CV] criterion=entropy, max_depth=15, min_samples_split=2, n_estimators=250 \n",
      "[CV]  criterion=entropy, max_depth=15, min_samples_split=2, n_estimators=250, total=   0.8s\n",
      "[CV] criterion=entropy, max_depth=15, min_samples_split=2, n_estimators=300 \n",
      "[CV]  criterion=entropy, max_depth=15, min_samples_split=2, n_estimators=300, total=   0.9s\n",
      "[CV] criterion=entropy, max_depth=15, min_samples_split=2, n_estimators=300 \n",
      "[CV]  criterion=entropy, max_depth=15, min_samples_split=2, n_estimators=300, total=   0.9s\n",
      "[CV] criterion=entropy, max_depth=15, min_samples_split=2, n_estimators=300 \n",
      "[CV]  criterion=entropy, max_depth=15, min_samples_split=2, n_estimators=300, total=   0.8s\n",
      "[CV] criterion=entropy, max_depth=15, min_samples_split=2, n_estimators=300 \n",
      "[CV]  criterion=entropy, max_depth=15, min_samples_split=2, n_estimators=300, total=   0.8s\n",
      "[CV] criterion=entropy, max_depth=15, min_samples_split=2, n_estimators=300 \n",
      "[CV]  criterion=entropy, max_depth=15, min_samples_split=2, n_estimators=300, total=   0.9s\n",
      "[CV] criterion=entropy, max_depth=15, min_samples_split=3, n_estimators=250 \n",
      "[CV]  criterion=entropy, max_depth=15, min_samples_split=3, n_estimators=250, total=   0.7s\n",
      "[CV] criterion=entropy, max_depth=15, min_samples_split=3, n_estimators=250 \n",
      "[CV]  criterion=entropy, max_depth=15, min_samples_split=3, n_estimators=250, total=   0.8s\n",
      "[CV] criterion=entropy, max_depth=15, min_samples_split=3, n_estimators=250 \n",
      "[CV]  criterion=entropy, max_depth=15, min_samples_split=3, n_estimators=250, total=   0.7s\n",
      "[CV] criterion=entropy, max_depth=15, min_samples_split=3, n_estimators=250 \n",
      "[CV]  criterion=entropy, max_depth=15, min_samples_split=3, n_estimators=250, total=   0.7s\n",
      "[CV] criterion=entropy, max_depth=15, min_samples_split=3, n_estimators=250 \n",
      "[CV]  criterion=entropy, max_depth=15, min_samples_split=3, n_estimators=250, total=   0.7s\n",
      "[CV] criterion=entropy, max_depth=15, min_samples_split=3, n_estimators=300 \n",
      "[CV]  criterion=entropy, max_depth=15, min_samples_split=3, n_estimators=300, total=   0.8s\n",
      "[CV] criterion=entropy, max_depth=15, min_samples_split=3, n_estimators=300 \n",
      "[CV]  criterion=entropy, max_depth=15, min_samples_split=3, n_estimators=300, total=   0.8s\n",
      "[CV] criterion=entropy, max_depth=15, min_samples_split=3, n_estimators=300 \n",
      "[CV]  criterion=entropy, max_depth=15, min_samples_split=3, n_estimators=300, total=   0.8s\n",
      "[CV] criterion=entropy, max_depth=15, min_samples_split=3, n_estimators=300 \n",
      "[CV]  criterion=entropy, max_depth=15, min_samples_split=3, n_estimators=300, total=   0.8s\n",
      "[CV] criterion=entropy, max_depth=15, min_samples_split=3, n_estimators=300 \n",
      "[CV]  criterion=entropy, max_depth=15, min_samples_split=3, n_estimators=300, total=   0.9s\n",
      "[CV] criterion=entropy, max_depth=15, min_samples_split=4, n_estimators=250 \n",
      "[CV]  criterion=entropy, max_depth=15, min_samples_split=4, n_estimators=250, total=   0.7s\n",
      "[CV] criterion=entropy, max_depth=15, min_samples_split=4, n_estimators=250 \n",
      "[CV]  criterion=entropy, max_depth=15, min_samples_split=4, n_estimators=250, total=   0.7s\n",
      "[CV] criterion=entropy, max_depth=15, min_samples_split=4, n_estimators=250 \n",
      "[CV]  criterion=entropy, max_depth=15, min_samples_split=4, n_estimators=250, total=   0.7s\n",
      "[CV] criterion=entropy, max_depth=15, min_samples_split=4, n_estimators=250 \n",
      "[CV]  criterion=entropy, max_depth=15, min_samples_split=4, n_estimators=250, total=   0.8s\n",
      "[CV] criterion=entropy, max_depth=15, min_samples_split=4, n_estimators=250 \n",
      "[CV]  criterion=entropy, max_depth=15, min_samples_split=4, n_estimators=250, total=   0.7s\n",
      "[CV] criterion=entropy, max_depth=15, min_samples_split=4, n_estimators=300 \n",
      "[CV]  criterion=entropy, max_depth=15, min_samples_split=4, n_estimators=300, total=   1.0s\n",
      "[CV] criterion=entropy, max_depth=15, min_samples_split=4, n_estimators=300 \n",
      "[CV]  criterion=entropy, max_depth=15, min_samples_split=4, n_estimators=300, total=   0.9s\n",
      "[CV] criterion=entropy, max_depth=15, min_samples_split=4, n_estimators=300 \n",
      "[CV]  criterion=entropy, max_depth=15, min_samples_split=4, n_estimators=300, total=   0.9s\n",
      "[CV] criterion=entropy, max_depth=15, min_samples_split=4, n_estimators=300 \n",
      "[CV]  criterion=entropy, max_depth=15, min_samples_split=4, n_estimators=300, total=   0.9s\n",
      "[CV] criterion=entropy, max_depth=15, min_samples_split=4, n_estimators=300 \n",
      "[CV]  criterion=entropy, max_depth=15, min_samples_split=4, n_estimators=300, total=   1.0s\n",
      "[CV] criterion=entropy, max_depth=20, min_samples_split=2, n_estimators=250 \n",
      "[CV]  criterion=entropy, max_depth=20, min_samples_split=2, n_estimators=250, total=   0.9s\n",
      "[CV] criterion=entropy, max_depth=20, min_samples_split=2, n_estimators=250 \n"
     ]
    },
    {
     "name": "stdout",
     "output_type": "stream",
     "text": [
      "[CV]  criterion=entropy, max_depth=20, min_samples_split=2, n_estimators=250, total=   0.7s\n",
      "[CV] criterion=entropy, max_depth=20, min_samples_split=2, n_estimators=250 \n",
      "[CV]  criterion=entropy, max_depth=20, min_samples_split=2, n_estimators=250, total=   0.7s\n",
      "[CV] criterion=entropy, max_depth=20, min_samples_split=2, n_estimators=250 \n",
      "[CV]  criterion=entropy, max_depth=20, min_samples_split=2, n_estimators=250, total=   0.7s\n",
      "[CV] criterion=entropy, max_depth=20, min_samples_split=2, n_estimators=250 \n",
      "[CV]  criterion=entropy, max_depth=20, min_samples_split=2, n_estimators=250, total=   0.7s\n",
      "[CV] criterion=entropy, max_depth=20, min_samples_split=2, n_estimators=300 \n",
      "[CV]  criterion=entropy, max_depth=20, min_samples_split=2, n_estimators=300, total=   0.9s\n",
      "[CV] criterion=entropy, max_depth=20, min_samples_split=2, n_estimators=300 \n",
      "[CV]  criterion=entropy, max_depth=20, min_samples_split=2, n_estimators=300, total=   0.8s\n",
      "[CV] criterion=entropy, max_depth=20, min_samples_split=2, n_estimators=300 \n",
      "[CV]  criterion=entropy, max_depth=20, min_samples_split=2, n_estimators=300, total=   0.9s\n",
      "[CV] criterion=entropy, max_depth=20, min_samples_split=2, n_estimators=300 \n",
      "[CV]  criterion=entropy, max_depth=20, min_samples_split=2, n_estimators=300, total=   0.9s\n",
      "[CV] criterion=entropy, max_depth=20, min_samples_split=2, n_estimators=300 \n",
      "[CV]  criterion=entropy, max_depth=20, min_samples_split=2, n_estimators=300, total=   0.9s\n",
      "[CV] criterion=entropy, max_depth=20, min_samples_split=3, n_estimators=250 \n",
      "[CV]  criterion=entropy, max_depth=20, min_samples_split=3, n_estimators=250, total=   0.7s\n",
      "[CV] criterion=entropy, max_depth=20, min_samples_split=3, n_estimators=250 \n",
      "[CV]  criterion=entropy, max_depth=20, min_samples_split=3, n_estimators=250, total=   0.7s\n",
      "[CV] criterion=entropy, max_depth=20, min_samples_split=3, n_estimators=250 \n",
      "[CV]  criterion=entropy, max_depth=20, min_samples_split=3, n_estimators=250, total=   0.7s\n",
      "[CV] criterion=entropy, max_depth=20, min_samples_split=3, n_estimators=250 \n",
      "[CV]  criterion=entropy, max_depth=20, min_samples_split=3, n_estimators=250, total=   0.7s\n",
      "[CV] criterion=entropy, max_depth=20, min_samples_split=3, n_estimators=250 \n",
      "[CV]  criterion=entropy, max_depth=20, min_samples_split=3, n_estimators=250, total=   0.7s\n",
      "[CV] criterion=entropy, max_depth=20, min_samples_split=3, n_estimators=300 \n",
      "[CV]  criterion=entropy, max_depth=20, min_samples_split=3, n_estimators=300, total=   0.8s\n",
      "[CV] criterion=entropy, max_depth=20, min_samples_split=3, n_estimators=300 \n",
      "[CV]  criterion=entropy, max_depth=20, min_samples_split=3, n_estimators=300, total=   0.8s\n",
      "[CV] criterion=entropy, max_depth=20, min_samples_split=3, n_estimators=300 \n",
      "[CV]  criterion=entropy, max_depth=20, min_samples_split=3, n_estimators=300, total=   0.9s\n",
      "[CV] criterion=entropy, max_depth=20, min_samples_split=3, n_estimators=300 \n",
      "[CV]  criterion=entropy, max_depth=20, min_samples_split=3, n_estimators=300, total=   0.8s\n",
      "[CV] criterion=entropy, max_depth=20, min_samples_split=3, n_estimators=300 \n",
      "[CV]  criterion=entropy, max_depth=20, min_samples_split=3, n_estimators=300, total=   0.8s\n",
      "[CV] criterion=entropy, max_depth=20, min_samples_split=4, n_estimators=250 \n",
      "[CV]  criterion=entropy, max_depth=20, min_samples_split=4, n_estimators=250, total=   0.7s\n",
      "[CV] criterion=entropy, max_depth=20, min_samples_split=4, n_estimators=250 \n",
      "[CV]  criterion=entropy, max_depth=20, min_samples_split=4, n_estimators=250, total=   0.7s\n",
      "[CV] criterion=entropy, max_depth=20, min_samples_split=4, n_estimators=250 \n",
      "[CV]  criterion=entropy, max_depth=20, min_samples_split=4, n_estimators=250, total=   0.7s\n",
      "[CV] criterion=entropy, max_depth=20, min_samples_split=4, n_estimators=250 \n",
      "[CV]  criterion=entropy, max_depth=20, min_samples_split=4, n_estimators=250, total=   0.7s\n",
      "[CV] criterion=entropy, max_depth=20, min_samples_split=4, n_estimators=250 \n",
      "[CV]  criterion=entropy, max_depth=20, min_samples_split=4, n_estimators=250, total=   0.7s\n",
      "[CV] criterion=entropy, max_depth=20, min_samples_split=4, n_estimators=300 \n",
      "[CV]  criterion=entropy, max_depth=20, min_samples_split=4, n_estimators=300, total=   0.8s\n",
      "[CV] criterion=entropy, max_depth=20, min_samples_split=4, n_estimators=300 \n",
      "[CV]  criterion=entropy, max_depth=20, min_samples_split=4, n_estimators=300, total=   0.8s\n",
      "[CV] criterion=entropy, max_depth=20, min_samples_split=4, n_estimators=300 \n",
      "[CV]  criterion=entropy, max_depth=20, min_samples_split=4, n_estimators=300, total=   0.9s\n",
      "[CV] criterion=entropy, max_depth=20, min_samples_split=4, n_estimators=300 \n",
      "[CV]  criterion=entropy, max_depth=20, min_samples_split=4, n_estimators=300, total=   0.8s\n",
      "[CV] criterion=entropy, max_depth=20, min_samples_split=4, n_estimators=300 \n",
      "[CV]  criterion=entropy, max_depth=20, min_samples_split=4, n_estimators=300, total=   0.8s\n"
     ]
    },
    {
     "name": "stderr",
     "output_type": "stream",
     "text": [
      "[Parallel(n_jobs=1)]: Done 180 out of 180 | elapsed:  2.6min finished\n"
     ]
    },
    {
     "data": {
      "text/plain": [
       "GridSearchCV(cv=StratifiedShuffleSplit(n_splits=5, random_state=0, test_size=0.2,\n",
       "            train_size=None),\n",
       "       error_score='raise',\n",
       "       estimator=RandomForestClassifier(bootstrap=True, class_weight=None, criterion='gini',\n",
       "            max_depth=None, max_features='auto', max_leaf_nodes=None,\n",
       "            min_impurity_decrease=0.0, min_impurity_split=None,\n",
       "            min_samples_leaf=1, min_samples_split=2,\n",
       "            min_weight_fraction_leaf=0.0, n_estimators=10, n_jobs=1,\n",
       "            oob_score=False, random_state=None, verbose=0,\n",
       "            warm_start=False),\n",
       "       fit_params=None, iid=True, n_jobs=1,\n",
       "       param_grid={'n_estimators': [250, 300], 'criterion': ['gini', 'entropy'], 'max_depth': [10, 15, 20], 'min_samples_split': [2, 3, 4]},\n",
       "       pre_dispatch='2*n_jobs', refit=True, return_train_score=True,\n",
       "       scoring=None, verbose=2)"
      ]
     },
     "execution_count": 100,
     "metadata": {},
     "output_type": "execute_result"
    }
   ],
   "source": [
    "from sklearn.ensemble import RandomForestClassifier\n",
    "\n",
    "# Random Forest\n",
    "param_grid = {\"n_estimators\": [250, 300],\n",
    "              \"criterion\": [\"gini\", \"entropy\"],\n",
    "              \"max_depth\": [10, 15, 20],\n",
    "              \"min_samples_split\": [2, 3, 4]}\n",
    "cv = StratifiedShuffleSplit(n_splits=5, test_size=0.2, random_state=0)\n",
    "forest = GridSearchCV(RandomForestClassifier(), param_grid=param_grid, cv=cv, verbose=2)\n",
    "forest.fit(X_train, y_train)\n"
   ]
  },
  {
   "cell_type": "code",
   "execution_count": 101,
   "metadata": {},
   "outputs": [
    {
     "name": "stdout",
     "output_type": "stream",
     "text": [
      "[FOREST] The best parameters are {'criterion': 'entropy', 'max_depth': 10, 'min_samples_split': 4, 'n_estimators': 300} with a score of 0.82\n"
     ]
    }
   ],
   "source": [
    "print(\"[FOREST] The best parameters are %s with a score of %0.2f\"\n",
    "      % (forest.best_params_, forest.best_score_))"
   ]
  },
  {
   "cell_type": "markdown",
   "metadata": {},
   "source": [
    "So, it seems the random foret is the best one. We can write it down to a csv file."
   ]
  },
  {
   "cell_type": "code",
   "execution_count": 102,
   "metadata": {},
   "outputs": [],
   "source": [
    "out_df = pd.DataFrame(\n",
    "    {'PassengerId': pd.read_csv(directory + 'test.csv').PassengerId, 'Survived': forest.predict(X_test)}).to_csv(\n",
    "    'out_forest.csv', header=True, index=False)"
   ]
  }
 ],
 "metadata": {
  "kernelspec": {
   "display_name": "Python 3",
   "language": "python",
   "name": "python3"
  },
  "language_info": {
   "codemirror_mode": {
    "name": "ipython",
    "version": 3
   },
   "file_extension": ".py",
   "mimetype": "text/x-python",
   "name": "python",
   "nbconvert_exporter": "python",
   "pygments_lexer": "ipython3",
   "version": "3.6.2"
  }
 },
 "nbformat": 4,
 "nbformat_minor": 2
}
